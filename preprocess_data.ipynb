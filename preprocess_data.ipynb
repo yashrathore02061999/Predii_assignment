{
 "cells": [
  {
   "cell_type": "code",
   "execution_count": null,
   "metadata": {},
   "outputs": [],
   "source": [
    "import os\n",
    "import pandas as pd"
   ]
  },
  {
   "cell_type": "code",
   "execution_count": null,
   "metadata": {},
   "outputs": [],
   "source": [
    "dataset_folder = 'datasets/'"
   ]
  },
  {
   "cell_type": "code",
   "execution_count": null,
   "metadata": {},
   "outputs": [],
   "source": [
    "# Read the data text file\n",
    "f_name = 'FLAT_RCL.txt'\n",
    "f_path = os.path.join(dataset_folder, f_name)\n",
    "with open(f_path, 'r')as f:\n",
    "    s = f.readlines()"
   ]
  },
  {
   "cell_type": "code",
   "execution_count": null,
   "metadata": {},
   "outputs": [],
   "source": [
    "# Find Unique Delimiter\n",
    "for line in s:\n",
    "    if(\"_#_\" in line):\n",
    "        print(\"yes\")"
   ]
  },
  {
   "cell_type": "code",
   "execution_count": null,
   "metadata": {},
   "outputs": [],
   "source": [
    "k=[item.replace(\"\\t\",\"_#_\") for item in s]\n",
    "# print(k)"
   ]
  },
  {
   "cell_type": "code",
   "execution_count": null,
   "metadata": {},
   "outputs": [],
   "source": [
    "new_f_name = f'updated_{f_name}'\n",
    "new_f_path = os.path.join(dataset_folder, new_f_name)\n",
    "with open(new_f_path, 'w')as f:\n",
    "     f.write('\\n'.join(k))"
   ]
  },
  {
   "cell_type": "code",
   "execution_count": null,
   "metadata": {},
   "outputs": [],
   "source": [
    "df=pd.read_csv(new_f_path,sep=\"_#_\")"
   ]
  },
  {
   "cell_type": "code",
   "execution_count": null,
   "metadata": {},
   "outputs": [],
   "source": [
    "df.head()"
   ]
  },
  {
   "cell_type": "code",
   "execution_count": null,
   "metadata": {},
   "outputs": [],
   "source": [
    "df.shape"
   ]
  },
  {
   "cell_type": "code",
   "execution_count": null,
   "metadata": {},
   "outputs": [],
   "source": [
    "# Assigning column names based on the provided field names\n",
    "columns = [\n",
    "    \"RECORD_ID\", \"CAMPNO\", \"MAKETXT\", \"MODELTXT\", \"YEARTXT\", \"MFGCAMPNO\", \n",
    "    \"COMPNAME\", \"MFGNAME\", \"BGMAN\", \"ENDMAN\", \"RCLTYPECD\", \"POTAFF\", \n",
    "    \"ODATE\", \"INFLUENCED_BY\", \"MFGTXT\", \"RCDATE\", \"DATEA\", \"RPNO\", \n",
    "    \"FMVSS\", \"DESC_DEFECT\", \"CONEQUENCE_DEFECT\", \"CORRECTIVE_ACTION\", \n",
    "    \"NOTES\", \"RCL_CMPT_ID\", \"MFR_COMP_NAME\", \"MFR_COMP_DESC\", \"MFR_COMP_PTNO\"\n",
    "]"
   ]
  },
  {
   "cell_type": "code",
   "execution_count": null,
   "metadata": {},
   "outputs": [],
   "source": [
    "# Assign column names only if `df` has been successfully created\n",
    "\n",
    "df.columns = columns\n",
    "\n",
    "# Selecting the specified fields (columns 3, 4, 5, 20, 21, 22)\n",
    "fields = [\"MAKETXT\", \"MODELTXT\", \"YEARTXT\", \"DESC_DEFECT\", \"CONEQUENCE_DEFECT\", \"CORRECTIVE_ACTION\"]\n",
    "selected_df = df[fields]\n",
    "\n",
    "# Displaying the resulting DataFrame\n",
    "selected_df.head()"
   ]
  },
  {
   "cell_type": "code",
   "execution_count": null,
   "metadata": {},
   "outputs": [],
   "source": [
    "# Filter rows where MAKETXT is \"FORD\" or \"TOYOTA\"\n",
    "filtered_df= selected_df[selected_df['MAKETXT'].str.upper().isin(['FORD', 'TOYOTA'])]\n"
   ]
  },
  {
   "cell_type": "code",
   "execution_count": null,
   "metadata": {},
   "outputs": [],
   "source": [
    "# Save the filtered DataFrame to a CSV file\n",
    "filtered_df.to_csv(\"filtered_data.csv\", index=False)\n",
    "\n",
    "print(\"Filtered data saved to 'filtered_data.csv'\")"
   ]
  },
  {
   "cell_type": "code",
   "execution_count": null,
   "metadata": {},
   "outputs": [],
   "source": [
    "filtered_df.shape"
   ]
  },
  {
   "cell_type": "code",
   "execution_count": null,
   "metadata": {},
   "outputs": [],
   "source": [
    "# Save the filtered df as per the requirements of 6 columns and 2 makes (FORD, TOYOTA)\n",
    "d1 = pd.read_csv(\"filtered_data.csv\") \n",
    "data_dict = d1.to_dict(orient=\"records\")\n",
    "for i in data_dict:\n",
    "    print(i)\n",
    "    "
   ]
  },
  {
   "cell_type": "code",
   "execution_count": null,
   "metadata": {},
   "outputs": [],
   "source": []
  },
  {
   "cell_type": "code",
   "execution_count": null,
   "metadata": {},
   "outputs": [],
   "source": []
  },
  {
   "cell_type": "code",
   "execution_count": null,
   "metadata": {},
   "outputs": [],
   "source": []
  },
  {
   "cell_type": "code",
   "execution_count": null,
   "metadata": {},
   "outputs": [],
   "source": []
  },
  {
   "cell_type": "code",
   "execution_count": null,
   "metadata": {},
   "outputs": [],
   "source": []
  }
 ],
 "metadata": {
  "kernelspec": {
   "display_name": "base",
   "language": "python",
   "name": "python3"
  },
  "language_info": {
   "codemirror_mode": {
    "name": "ipython",
    "version": 3
   },
   "file_extension": ".py",
   "mimetype": "text/x-python",
   "name": "python",
   "nbconvert_exporter": "python",
   "pygments_lexer": "ipython3",
   "version": "3.11.10"
  }
 },
 "nbformat": 4,
 "nbformat_minor": 2
}
